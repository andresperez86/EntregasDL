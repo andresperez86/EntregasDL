{
  "nbformat": 4,
  "nbformat_minor": 0,
  "metadata": {
    "kernelspec": {
      "display_name": "Python 3",
      "language": "python",
      "name": "python3"
    },
    "language_info": {
      "codemirror_mode": {
        "name": "ipython",
        "version": 3
      },
      "file_extension": ".py",
      "mimetype": "text/x-python",
      "name": "python",
      "nbconvert_exporter": "python",
      "pygments_lexer": "ipython3",
      "version": "3.6.7"
    },
    "colab": {
      "name": "Handling Imbalanced Data- Over Sampling.ipynb",
      "provenance": [],
      "include_colab_link": true
    }
  },
  "cells": [
    {
      "cell_type": "markdown",
      "metadata": {
        "id": "view-in-github",
        "colab_type": "text"
      },
      "source": [
        "<a href=\"https://colab.research.google.com/github/andresperez86/EntregasDL/blob/master/Handling_Imbalanced_Data_Over_Sampling.ipynb\" target=\"_parent\"><img src=\"https://colab.research.google.com/assets/colab-badge.svg\" alt=\"Open In Colab\"/></a>"
      ]
    },
    {
      "cell_type": "markdown",
      "metadata": {
        "id": "k0f56nsj4E90",
        "colab_type": "text"
      },
      "source": [
        "## Deseafio Kaggle Detección de fraude con tarjeta de crédito : fijación de conjuntos de datos desequilibrados\n",
        "\n",
        "### Contexto\n",
        "Es importante que las compañías de tarjetas de crédito puedan reconocer transacciones fraudulentas de tarjetas de crédito para que a los clientes no se les cobre por los artículos que no compraron.\n",
        "\n",
        "### Contenido\n",
        "Los conjuntos de datos contienen transacciones realizadas con tarjetas de crédito en septiembre de 2013 por titulares de tarjetas europeos. Este conjunto de datos presenta transacciones que ocurrieron en dos días, donde tenemos 492 fraudes de 284,807 transacciones. El conjunto de datos está altamente desequilibrado, la clase positiva (fraudes) representa el 0.172% de todas las transacciones.\n",
        "\n",
        "Contiene solo variables de entrada numéricas que son el resultado de una transformación con Análisis de componentes pricipales(PCA). Desafortunadamente, debido a problemas de confidencialidad, no podemos proporcionar las características originales y más información de fondo sobre los datos. Las características V1, V2, ... V28 son los componentes principales obtenidos con PCA, las únicas características que no se han transformado con PCA son 'Tiempo' y 'Cantidad'. La función 'Tiempo' contiene los segundos transcurridos entre cada transacción y la primera transacción en el conjunto de datos. La característica 'Cantidad' es la Cantidad de la transacción, esta característica se puede utilizar para el aprendizaje sensible al costo dependiente del ejemplo. La característica 'Clase' es la variable de respuesta y toma el valor 1 en caso de fraude y 0 en caso contrario.\n",
        "\n",
        "### Inspiracion\n",
        "Identificar transacciones fraudulentas con tarjeta de crédito.\n",
        "\n",
        "Dada la relación de desequilibrio de clase, recomendamos medir la precisión utilizando el área bajo la curva de precisión-recuperación (AUPRC). La precisión de la matriz de confusión no es significativa para la clasificación desequilibrada.\n",
        "\n",
        "### Agradecimientos.\n",
        "El conjunto de datos se ha recopilado y analizado durante una colaboración de investigación de Worldline y el Machine Learning Group (http://mlg.ulb.ac.be) de ULB (Université Libre de Bruxelles) sobre minería de datos grandes y detección de fraude. Más detalles sobre proyectos actuales y pasados sobre temas relacionados están disponibles en https://www.researchgate.net/project/Fraud-detection-5 y la página del proyecto DefeatFraud"
      ]
    },
    {
      "cell_type": "code",
      "metadata": {
        "id": "fDe-9AD59OHl",
        "colab_type": "code",
        "outputId": "f72c8c48-f4fc-4a35-b294-e6d5d4f6f359",
        "colab": {
          "base_uri": "https://localhost:8080/",
          "height": 120
        }
      },
      "source": [
        "from google.colab import drive\n",
        "drive.mount('/content/drive')"
      ],
      "execution_count": 2,
      "outputs": [
        {
          "output_type": "stream",
          "text": [
            "Go to this URL in a browser: https://accounts.google.com/o/oauth2/auth?client_id=947318989803-6bn6qk8qdgf4n4g3pfee6491hc0brc4i.apps.googleusercontent.com&redirect_uri=urn%3aietf%3awg%3aoauth%3a2.0%3aoob&response_type=code&scope=email%20https%3a%2f%2fwww.googleapis.com%2fauth%2fdocs.test%20https%3a%2f%2fwww.googleapis.com%2fauth%2fdrive%20https%3a%2f%2fwww.googleapis.com%2fauth%2fdrive.photos.readonly%20https%3a%2f%2fwww.googleapis.com%2fauth%2fpeopleapi.readonly\n",
            "\n",
            "Enter your authorization code:\n",
            "··········\n",
            "Mounted at /content/drive\n"
          ],
          "name": "stdout"
        }
      ]
    },
    {
      "cell_type": "code",
      "metadata": {
        "id": "WJrqlUBU4E91",
        "colab_type": "code",
        "colab": {
          "base_uri": "https://localhost:8080/",
          "height": 70
        },
        "outputId": "131b83e5-7ac5-4d7e-bdd7-d0068ad04afa"
      },
      "source": [
        "import numpy as np\n",
        "import pandas as pd\n",
        "import matplotlib.pyplot as plt\n",
        "import seaborn as sns\n",
        "\n",
        "from sklearn.model_selection import train_test_split\n",
        "from sklearn.linear_model import LogisticRegression\n",
        "from sklearn.dummy import DummyClassifier\n",
        "from sklearn.metrics import accuracy_score, f1_score, confusion_matrix, recall_score, roc_curve, roc_auc_score\n",
        "from sklearn.metrics import plot_confusion_matrix\n",
        "# rcParams['figure.figsize'] = 20, 8 \n",
        "RANDOM_SEED = 42\n",
        "LABELS = [\"Not Fraud\", \"Fraud\"]"
      ],
      "execution_count": 3,
      "outputs": [
        {
          "output_type": "stream",
          "text": [
            "/usr/local/lib/python3.6/dist-packages/statsmodels/tools/_testing.py:19: FutureWarning: pandas.util.testing is deprecated. Use the functions in the public API at pandas.testing instead.\n",
            "  import pandas.util.testing as tm\n"
          ],
          "name": "stderr"
        }
      ]
    },
    {
      "cell_type": "code",
      "metadata": {
        "id": "b-ZrHlPVAzf9",
        "colab_type": "code",
        "colab": {}
      },
      "source": [
        "!mkdir ./local/\n",
        "!mkdir ./local/datasets/"
      ],
      "execution_count": 0,
      "outputs": []
    },
    {
      "cell_type": "code",
      "metadata": {
        "id": "V_yXvKUy-j_m",
        "colab_type": "code",
        "colab": {}
      },
      "source": [
        "ruta_zip='/content/drive/My Drive/MAESTRÍA/STATISTICAL LEARNING/Imbalance Learning/creditcard.csv.zip'\n",
        "dataset_dir = \"./local/datasets/\"\n",
        "password = None"
      ],
      "execution_count": 0,
      "outputs": []
    },
    {
      "cell_type": "code",
      "metadata": {
        "id": "--hHleQHBY5W",
        "colab_type": "code",
        "outputId": "35561133-a365-491e-da17-670b2cf38f9c",
        "colab": {
          "base_uri": "https://localhost:8080/",
          "height": 33
        }
      },
      "source": [
        "import zipfile\n",
        "\n",
        "archivo_zip = zipfile.ZipFile(ruta_zip, \"r\")\n",
        "try:\n",
        "    print(archivo_zip.namelist())\n",
        "    archivo_zip.extractall(pwd=password, path=dataset_dir)\n",
        "\n",
        "except:\n",
        "    pass\n",
        "archivo_zip.close()"
      ],
      "execution_count": 6,
      "outputs": [
        {
          "output_type": "stream",
          "text": [
            "['creditcard.csv']\n"
          ],
          "name": "stdout"
        }
      ]
    },
    {
      "cell_type": "code",
      "metadata": {
        "id": "a2qNTwM24E95",
        "colab_type": "code",
        "outputId": "44570cd5-e4ed-49de-c964-46b996104225",
        "colab": {
          "base_uri": "https://localhost:8080/",
          "height": 211
        }
      },
      "source": [
        "data = pd.read_csv(dataset_dir+'creditcard.csv',sep=',')\n",
        "data.head()"
      ],
      "execution_count": 7,
      "outputs": [
        {
          "output_type": "execute_result",
          "data": {
            "text/html": [
              "<div>\n",
              "<style scoped>\n",
              "    .dataframe tbody tr th:only-of-type {\n",
              "        vertical-align: middle;\n",
              "    }\n",
              "\n",
              "    .dataframe tbody tr th {\n",
              "        vertical-align: top;\n",
              "    }\n",
              "\n",
              "    .dataframe thead th {\n",
              "        text-align: right;\n",
              "    }\n",
              "</style>\n",
              "<table border=\"1\" class=\"dataframe\">\n",
              "  <thead>\n",
              "    <tr style=\"text-align: right;\">\n",
              "      <th></th>\n",
              "      <th>Time</th>\n",
              "      <th>V1</th>\n",
              "      <th>V2</th>\n",
              "      <th>V3</th>\n",
              "      <th>V4</th>\n",
              "      <th>V5</th>\n",
              "      <th>V6</th>\n",
              "      <th>V7</th>\n",
              "      <th>V8</th>\n",
              "      <th>V9</th>\n",
              "      <th>V10</th>\n",
              "      <th>V11</th>\n",
              "      <th>V12</th>\n",
              "      <th>V13</th>\n",
              "      <th>V14</th>\n",
              "      <th>V15</th>\n",
              "      <th>V16</th>\n",
              "      <th>V17</th>\n",
              "      <th>V18</th>\n",
              "      <th>V19</th>\n",
              "      <th>V20</th>\n",
              "      <th>V21</th>\n",
              "      <th>V22</th>\n",
              "      <th>V23</th>\n",
              "      <th>V24</th>\n",
              "      <th>V25</th>\n",
              "      <th>V26</th>\n",
              "      <th>V27</th>\n",
              "      <th>V28</th>\n",
              "      <th>Amount</th>\n",
              "      <th>Class</th>\n",
              "    </tr>\n",
              "  </thead>\n",
              "  <tbody>\n",
              "    <tr>\n",
              "      <th>0</th>\n",
              "      <td>0.0</td>\n",
              "      <td>-1.359807</td>\n",
              "      <td>-0.072781</td>\n",
              "      <td>2.536347</td>\n",
              "      <td>1.378155</td>\n",
              "      <td>-0.338321</td>\n",
              "      <td>0.462388</td>\n",
              "      <td>0.239599</td>\n",
              "      <td>0.098698</td>\n",
              "      <td>0.363787</td>\n",
              "      <td>0.090794</td>\n",
              "      <td>-0.551600</td>\n",
              "      <td>-0.617801</td>\n",
              "      <td>-0.991390</td>\n",
              "      <td>-0.311169</td>\n",
              "      <td>1.468177</td>\n",
              "      <td>-0.470401</td>\n",
              "      <td>0.207971</td>\n",
              "      <td>0.025791</td>\n",
              "      <td>0.403993</td>\n",
              "      <td>0.251412</td>\n",
              "      <td>-0.018307</td>\n",
              "      <td>0.277838</td>\n",
              "      <td>-0.110474</td>\n",
              "      <td>0.066928</td>\n",
              "      <td>0.128539</td>\n",
              "      <td>-0.189115</td>\n",
              "      <td>0.133558</td>\n",
              "      <td>-0.021053</td>\n",
              "      <td>149.62</td>\n",
              "      <td>0</td>\n",
              "    </tr>\n",
              "    <tr>\n",
              "      <th>1</th>\n",
              "      <td>0.0</td>\n",
              "      <td>1.191857</td>\n",
              "      <td>0.266151</td>\n",
              "      <td>0.166480</td>\n",
              "      <td>0.448154</td>\n",
              "      <td>0.060018</td>\n",
              "      <td>-0.082361</td>\n",
              "      <td>-0.078803</td>\n",
              "      <td>0.085102</td>\n",
              "      <td>-0.255425</td>\n",
              "      <td>-0.166974</td>\n",
              "      <td>1.612727</td>\n",
              "      <td>1.065235</td>\n",
              "      <td>0.489095</td>\n",
              "      <td>-0.143772</td>\n",
              "      <td>0.635558</td>\n",
              "      <td>0.463917</td>\n",
              "      <td>-0.114805</td>\n",
              "      <td>-0.183361</td>\n",
              "      <td>-0.145783</td>\n",
              "      <td>-0.069083</td>\n",
              "      <td>-0.225775</td>\n",
              "      <td>-0.638672</td>\n",
              "      <td>0.101288</td>\n",
              "      <td>-0.339846</td>\n",
              "      <td>0.167170</td>\n",
              "      <td>0.125895</td>\n",
              "      <td>-0.008983</td>\n",
              "      <td>0.014724</td>\n",
              "      <td>2.69</td>\n",
              "      <td>0</td>\n",
              "    </tr>\n",
              "    <tr>\n",
              "      <th>2</th>\n",
              "      <td>1.0</td>\n",
              "      <td>-1.358354</td>\n",
              "      <td>-1.340163</td>\n",
              "      <td>1.773209</td>\n",
              "      <td>0.379780</td>\n",
              "      <td>-0.503198</td>\n",
              "      <td>1.800499</td>\n",
              "      <td>0.791461</td>\n",
              "      <td>0.247676</td>\n",
              "      <td>-1.514654</td>\n",
              "      <td>0.207643</td>\n",
              "      <td>0.624501</td>\n",
              "      <td>0.066084</td>\n",
              "      <td>0.717293</td>\n",
              "      <td>-0.165946</td>\n",
              "      <td>2.345865</td>\n",
              "      <td>-2.890083</td>\n",
              "      <td>1.109969</td>\n",
              "      <td>-0.121359</td>\n",
              "      <td>-2.261857</td>\n",
              "      <td>0.524980</td>\n",
              "      <td>0.247998</td>\n",
              "      <td>0.771679</td>\n",
              "      <td>0.909412</td>\n",
              "      <td>-0.689281</td>\n",
              "      <td>-0.327642</td>\n",
              "      <td>-0.139097</td>\n",
              "      <td>-0.055353</td>\n",
              "      <td>-0.059752</td>\n",
              "      <td>378.66</td>\n",
              "      <td>0</td>\n",
              "    </tr>\n",
              "    <tr>\n",
              "      <th>3</th>\n",
              "      <td>1.0</td>\n",
              "      <td>-0.966272</td>\n",
              "      <td>-0.185226</td>\n",
              "      <td>1.792993</td>\n",
              "      <td>-0.863291</td>\n",
              "      <td>-0.010309</td>\n",
              "      <td>1.247203</td>\n",
              "      <td>0.237609</td>\n",
              "      <td>0.377436</td>\n",
              "      <td>-1.387024</td>\n",
              "      <td>-0.054952</td>\n",
              "      <td>-0.226487</td>\n",
              "      <td>0.178228</td>\n",
              "      <td>0.507757</td>\n",
              "      <td>-0.287924</td>\n",
              "      <td>-0.631418</td>\n",
              "      <td>-1.059647</td>\n",
              "      <td>-0.684093</td>\n",
              "      <td>1.965775</td>\n",
              "      <td>-1.232622</td>\n",
              "      <td>-0.208038</td>\n",
              "      <td>-0.108300</td>\n",
              "      <td>0.005274</td>\n",
              "      <td>-0.190321</td>\n",
              "      <td>-1.175575</td>\n",
              "      <td>0.647376</td>\n",
              "      <td>-0.221929</td>\n",
              "      <td>0.062723</td>\n",
              "      <td>0.061458</td>\n",
              "      <td>123.50</td>\n",
              "      <td>0</td>\n",
              "    </tr>\n",
              "    <tr>\n",
              "      <th>4</th>\n",
              "      <td>2.0</td>\n",
              "      <td>-1.158233</td>\n",
              "      <td>0.877737</td>\n",
              "      <td>1.548718</td>\n",
              "      <td>0.403034</td>\n",
              "      <td>-0.407193</td>\n",
              "      <td>0.095921</td>\n",
              "      <td>0.592941</td>\n",
              "      <td>-0.270533</td>\n",
              "      <td>0.817739</td>\n",
              "      <td>0.753074</td>\n",
              "      <td>-0.822843</td>\n",
              "      <td>0.538196</td>\n",
              "      <td>1.345852</td>\n",
              "      <td>-1.119670</td>\n",
              "      <td>0.175121</td>\n",
              "      <td>-0.451449</td>\n",
              "      <td>-0.237033</td>\n",
              "      <td>-0.038195</td>\n",
              "      <td>0.803487</td>\n",
              "      <td>0.408542</td>\n",
              "      <td>-0.009431</td>\n",
              "      <td>0.798278</td>\n",
              "      <td>-0.137458</td>\n",
              "      <td>0.141267</td>\n",
              "      <td>-0.206010</td>\n",
              "      <td>0.502292</td>\n",
              "      <td>0.219422</td>\n",
              "      <td>0.215153</td>\n",
              "      <td>69.99</td>\n",
              "      <td>0</td>\n",
              "    </tr>\n",
              "  </tbody>\n",
              "</table>\n",
              "</div>"
            ],
            "text/plain": [
              "   Time        V1        V2        V3  ...       V27       V28  Amount  Class\n",
              "0   0.0 -1.359807 -0.072781  2.536347  ...  0.133558 -0.021053  149.62      0\n",
              "1   0.0  1.191857  0.266151  0.166480  ... -0.008983  0.014724    2.69      0\n",
              "2   1.0 -1.358354 -1.340163  1.773209  ... -0.055353 -0.059752  378.66      0\n",
              "3   1.0 -0.966272 -0.185226  1.792993  ...  0.062723  0.061458  123.50      0\n",
              "4   2.0 -1.158233  0.877737  1.548718  ...  0.219422  0.215153   69.99      0\n",
              "\n",
              "[5 rows x 31 columns]"
            ]
          },
          "metadata": {
            "tags": []
          },
          "execution_count": 7
        }
      ]
    },
    {
      "cell_type": "code",
      "metadata": {
        "id": "iRylVEVL4E98",
        "colab_type": "code",
        "outputId": "6ca714e4-8569-4f3e-cbb2-92584a426489",
        "colab": {
          "base_uri": "https://localhost:8080/",
          "height": 635
        }
      },
      "source": [
        "data.info()"
      ],
      "execution_count": 8,
      "outputs": [
        {
          "output_type": "stream",
          "text": [
            "<class 'pandas.core.frame.DataFrame'>\n",
            "RangeIndex: 284807 entries, 0 to 284806\n",
            "Data columns (total 31 columns):\n",
            " #   Column  Non-Null Count   Dtype  \n",
            "---  ------  --------------   -----  \n",
            " 0   Time    284807 non-null  float64\n",
            " 1   V1      284807 non-null  float64\n",
            " 2   V2      284807 non-null  float64\n",
            " 3   V3      284807 non-null  float64\n",
            " 4   V4      284807 non-null  float64\n",
            " 5   V5      284807 non-null  float64\n",
            " 6   V6      284807 non-null  float64\n",
            " 7   V7      284807 non-null  float64\n",
            " 8   V8      284807 non-null  float64\n",
            " 9   V9      284807 non-null  float64\n",
            " 10  V10     284807 non-null  float64\n",
            " 11  V11     284807 non-null  float64\n",
            " 12  V12     284807 non-null  float64\n",
            " 13  V13     284807 non-null  float64\n",
            " 14  V14     284807 non-null  float64\n",
            " 15  V15     284807 non-null  float64\n",
            " 16  V16     284807 non-null  float64\n",
            " 17  V17     284807 non-null  float64\n",
            " 18  V18     284807 non-null  float64\n",
            " 19  V19     284807 non-null  float64\n",
            " 20  V20     284807 non-null  float64\n",
            " 21  V21     284807 non-null  float64\n",
            " 22  V22     284807 non-null  float64\n",
            " 23  V23     284807 non-null  float64\n",
            " 24  V24     284807 non-null  float64\n",
            " 25  V25     284807 non-null  float64\n",
            " 26  V26     284807 non-null  float64\n",
            " 27  V27     284807 non-null  float64\n",
            " 28  V28     284807 non-null  float64\n",
            " 29  Amount  284807 non-null  float64\n",
            " 30  Class   284807 non-null  int64  \n",
            "dtypes: float64(30), int64(1)\n",
            "memory usage: 67.4 MB\n"
          ],
          "name": "stdout"
        }
      ]
    },
    {
      "cell_type": "code",
      "metadata": {
        "id": "3KMCSeUiMB9D",
        "colab_type": "code",
        "outputId": "947c8df8-05a6-4949-fdf8-78c7dd943d8e",
        "colab": {
          "base_uri": "https://localhost:8080/",
          "height": 66
        }
      },
      "source": [
        "print(data.Class.value_counts())"
      ],
      "execution_count": 9,
      "outputs": [
        {
          "output_type": "stream",
          "text": [
            "0    284315\n",
            "1       492\n",
            "Name: Class, dtype: int64\n"
          ],
          "name": "stdout"
        }
      ]
    },
    {
      "cell_type": "code",
      "metadata": {
        "id": "w_4BRxeE4E9_",
        "colab_type": "code",
        "outputId": "7e769e30-f6d9-40b1-a120-10d48a14bd58",
        "colab": {
          "base_uri": "https://localhost:8080/",
          "height": 50
        }
      },
      "source": [
        "#Separamos las caracteristicas independientes de las dependientes\n",
        "columns = data.columns.tolist()\n",
        "#filtramos la columna para remover e dato no deseado\n",
        "columns = [c for c in columns if c not in [\"Class\"]]\n",
        "# almacenamos la variable que estamoos prediciendo \n",
        "target = \"Class\"\n",
        "# Definimos un estado aleatorio\n",
        "state = np.random.RandomState(42)\n",
        "X = data[columns]\n",
        "Y = data[target]\n",
        "# Se imprime X & Y\n",
        "print(X.shape)\n",
        "print(Y.shape)"
      ],
      "execution_count": 10,
      "outputs": [
        {
          "output_type": "stream",
          "text": [
            "(284807, 30)\n",
            "(284807,)\n"
          ],
          "name": "stdout"
        }
      ]
    },
    {
      "cell_type": "code",
      "metadata": {
        "id": "hAeyfBI-JD1O",
        "colab_type": "code",
        "colab": {}
      },
      "source": [
        "def plot_roc_auc(fpr, tpr):\n",
        "  plt.figure(figsize=[12,6])\n",
        "  plt.grid(color='k', linestyle='--', linewidth=1)\n",
        "  plt.plot(fpr, tpr, color='orange', label='ROC')\n",
        "  plt.plot([0, 1], [0, 1], color='darkblue', linestyle='--')\n",
        "  plt.xlabel('Razon de falsos posivos')\n",
        "  plt.ylabel('Razon de verdaderos positivos')\n",
        "  plt.title('Receiver operating characterics(ROC) curve')\n",
        "  plt.legend()\n",
        "  plt.show()"
      ],
      "execution_count": 0,
      "outputs": []
    },
    {
      "cell_type": "code",
      "metadata": {
        "id": "Ha9lkTQvQTeJ",
        "colab_type": "code",
        "outputId": "27ef8e79-4af3-48e9-d5a7-727bc0d9e9e3",
        "colab": {
          "base_uri": "https://localhost:8080/",
          "height": 296
        }
      },
      "source": [
        "def plot_model(t ):#prediction\n",
        "    xr = np.linspace(np.min(data.Time), np.max(data.Time), 100)\n",
        "    plt.figure(figsize=[25,4])\n",
        "    plt.scatter(data.Time, data.Class, s=40, alpha=.2, color=\"blue\", label=\"\")\n",
        "    plt.title(\"   \".join([r\"$\\theta_%d$=%.2f\"%(i, t[i]) for i in range(len(t))]));\n",
        "    plt.xlabel(data.columns[0])\n",
        "    plt.ylabel(data.columns[30]);\n",
        "    \n",
        "t0 = np.random.random()*5+10\n",
        "t1 = np.random.random()*4-3\n",
        "\n",
        "plot_model([t0,t1])#, linear_prediction"
      ],
      "execution_count": 12,
      "outputs": [
        {
          "output_type": "display_data",
          "data": {
            "image/png": "[encoded data removed]",
            "text/plain": [
              "<Figure size 1800x288 with 1 Axes>"
            ]
          },
          "metadata": {
            "tags": [],
            "needs_background": "light"
          }
        }
      ]
    },
    {
      "cell_type": "markdown",
      "metadata": {
        "id": "R5yuwhaR4E-B",
        "colab_type": "text"
      },
      "source": [
        "## Exploratory Data Analysis"
      ]
    },
    {
      "cell_type": "code",
      "metadata": {
        "id": "5BgiSLDE4E-C",
        "colab_type": "code",
        "outputId": "4c5ef9f7-5c86-4403-f70f-f90dd6106292",
        "colab": {
          "base_uri": "https://localhost:8080/",
          "height": 311
        }
      },
      "source": [
        "# configuración predeterminada de parametros de la grafica.\n",
        "%matplotlib inline\n",
        "count_classes = pd.value_counts(data['Class'], sort = True)\n",
        "count_classes.plot(kind = 'bar', rot=0)\n",
        "plt.title(\"Transaction Class Distribution\")\n",
        "plt.xticks(range(2), LABELS)\n",
        "plt.xlabel(\"Class\")\n",
        "plt.ylabel(\"Frequency\")"
      ],
      "execution_count": 13,
      "outputs": [
        {
          "output_type": "execute_result",
          "data": {
            "text/plain": [
              "Text(0, 0.5, 'Frequency')"
            ]
          },
          "metadata": {
            "tags": []
          },
          "execution_count": 13
        },
        {
          "output_type": "display_data",
          "data": {
            "image/png": "[encoded data removed]",
            "text/plain": [
              "<Figure size 432x288 with 1 Axes>"
            ]
          },
          "metadata": {
            "tags": [],
            "needs_background": "light"
          }
        }
      ]
    },
    {
      "cell_type": "code",
      "metadata": {
        "id": "XmRD8c1LDXRN",
        "colab_type": "code",
        "outputId": "16a64884-3f47-4d14-9817-f95218d7d55e",
        "colab": {
          "base_uri": "https://localhost:8080/",
          "height": 33
        }
      },
      "source": [
        "# imprimir porcentaje de clases donde la salida es == 1 osea que es fraude\n",
        "(len(data.loc[data.Class==1])) / (len(data.loc[data.Class == 0])) * 100"
      ],
      "execution_count": 14,
      "outputs": [
        {
          "output_type": "execute_result",
          "data": {
            "text/plain": [
              "0.17304750013189596"
            ]
          },
          "metadata": {
            "tags": []
          },
          "execution_count": 14
        }
      ]
    },
    {
      "cell_type": "markdown",
      "metadata": {
        "id": "XkGAD0V9SVda",
        "colab_type": "text"
      },
      "source": [
        "En el gráfico anterior, podemos ver que tenemos una base de datos muy  desequilibrada: ¡solo el 0.17% de nuestro conjunto de datos pertenece a la clase objetivo!\n",
        "\n",
        "Esto es un problema, porque muchos modelos de aprendizaje automático están diseñados para maximizar la precisión general, que especialmente con clases desequilibradas puede no ser la mejor métrica para usar. La precisión de clasificación se define como el número de predicciones correctas dividido por el total de predicciones multiplicado por 100. Por ejemplo, si simplemente predijiéramos que todas las transacciones no son fraude, obtendríamos un puntaje de precisión de clasificación de más del 99%."
      ]
    },
    {
      "cell_type": "markdown",
      "metadata": {
        "id": "Q-cuhf8LYU8R",
        "colab_type": "text"
      },
      "source": [
        "Create Train and Test Sets"
      ]
    },
    {
      "cell_type": "code",
      "metadata": {
        "id": "vsyw9665YQwR",
        "colab_type": "code",
        "outputId": "6efa4e97-a290-47b2-b3d6-7f5e752b52b3",
        "colab": {
          "base_uri": "https://localhost:8080/",
          "height": 33
        }
      },
      "source": [
        "X_train, X_test, y_train, y_test = train_test_split(X, Y, test_size=0.25, random_state=27)\n",
        "X_train.shape"
      ],
      "execution_count": 15,
      "outputs": [
        {
          "output_type": "execute_result",
          "data": {
            "text/plain": [
              "(213605, 30)"
            ]
          },
          "metadata": {
            "tags": []
          },
          "execution_count": 15
        }
      ]
    },
    {
      "cell_type": "markdown",
      "metadata": {
        "id": "K7BqA1R8YsD1",
        "colab_type": "text"
      },
      "source": [
        "Baseline Models\n"
      ]
    },
    {
      "cell_type": "code",
      "metadata": {
        "id": "k5tIW5vVYn0t",
        "colab_type": "code",
        "colab": {}
      },
      "source": [
        "# DummyClassifier para predecir solo la clase  0(no fraude)\n",
        "dummy = DummyClassifier(strategy='most_frequent')\n",
        "dummy = dummy.fit(X_train, y_train)\n",
        "dummy_pred = dummy.predict(X_test)"
      ],
      "execution_count": 0,
      "outputs": []
    },
    {
      "cell_type": "code",
      "metadata": {
        "id": "2rQekC4eYuMV",
        "colab_type": "code",
        "outputId": "38d2b594-6c5e-42e7-aa7c-2f29280e6f9e",
        "colab": {
          "base_uri": "https://localhost:8080/",
          "height": 50
        }
      },
      "source": [
        "# Encuentra los elementos únicos de una matriz.\n",
        "print('Unique predicted labels: ', (np.unique(dummy_pred)))\n",
        "# Verifica exactitud\n",
        "print('Test score: ', accuracy_score(y_test, dummy_pred))"
      ],
      "execution_count": 17,
      "outputs": [
        {
          "output_type": "stream",
          "text": [
            "Unique predicted labels:  [0]\n",
            "Test score:  0.9981461194910255\n"
          ],
          "name": "stdout"
        }
      ]
    },
    {
      "cell_type": "markdown",
      "metadata": {
        "id": "rAy4mcyLZlLY",
        "colab_type": "text"
      },
      "source": [
        "\n",
        "¡Predijimos que nuestro puntaje de exactitud para clasificar todas las transacciones como no fraude es del 99.8%!\n",
        "\n",
        "Como el Dummy Classifier predice solo la Clase 0, claramente no es una buena opción para nuestro objetivo de clasificar correctamente las transacciones fraudulentas.\n",
        "\n",
        "Veamos cómo se realiza la regresión logística en este conjunto de datos."
      ]
    },
    {
      "cell_type": "code",
      "metadata": {
        "id": "TB7WLjU0d3Lb",
        "colab_type": "code",
        "colab": {}
      },
      "source": [
        "lr = LogisticRegression(solver='liblinear')\n",
        "lr = lr.fit(X_train, y_train)\n",
        "lr_pred = lr.predict(X_test)\n",
        "lr_pp = lr.predict_proba(X_train)"
      ],
      "execution_count": 0,
      "outputs": []
    },
    {
      "cell_type": "code",
      "metadata": {
        "id": "vXziyvBKXn_r",
        "colab_type": "code",
        "colab": {
          "base_uri": "https://localhost:8080/",
          "height": 33
        },
        "outputId": "7fd12c7b-1549-4335-c92c-b5051795bd01"
      },
      "source": [
        "lr_pp1  = lr_pp[:,1]\n",
        "auc = roc_auc_score(y_train, lr_pp1)#funcion para encontrar el auc\n",
        "print('AUC: %.2f' % auc)"
      ],
      "execution_count": 19,
      "outputs": [
        {
          "output_type": "stream",
          "text": [
            "AUC: 0.94\n"
          ],
          "name": "stdout"
        }
      ]
    },
    {
      "cell_type": "code",
      "metadata": {
        "id": "0D1-OdFmLs8e",
        "colab_type": "code",
        "outputId": "e61cb958-4423-45f5-f1bf-fbaaa63242e7",
        "colab": {
          "base_uri": "https://localhost:8080/",
          "height": 403
        }
      },
      "source": [
        "frp, tpr, threshold = roc_curve(y_train, lr_pp1)\n",
        "plot_roc_auc(frp, tpr)"
      ],
      "execution_count": 20,
      "outputs": [
        {
          "output_type": "display_data",
          "data": {
            "image/png": "[encoded data removed]",
            "text/plain": [
              "<Figure size 864x432 with 1 Axes>"
            ]
          },
          "metadata": {
            "tags": [],
            "needs_background": "light"
          }
        }
      ]
    },
    {
      "cell_type": "code",
      "metadata": {
        "id": "OP1RCdtCd5ul",
        "colab_type": "code",
        "outputId": "96183721-74f8-469d-f3ed-c20d9f72f459",
        "colab": {
          "base_uri": "https://localhost:8080/",
          "height": 33
        }
      },
      "source": [
        "# verificamos Precisión\n",
        "accuracy_score(y_test, lr_pred)"
      ],
      "execution_count": 21,
      "outputs": [
        {
          "output_type": "execute_result",
          "data": {
            "text/plain": [
              "0.9991011488441336"
            ]
          },
          "metadata": {
            "tags": []
          },
          "execution_count": 21
        }
      ]
    },
    {
      "cell_type": "code",
      "metadata": {
        "id": "xNMPJ-qYnuny",
        "colab_type": "code",
        "outputId": "74aeb215-4d19-4054-ed05-11f2bcf764c8",
        "colab": {
          "base_uri": "https://localhost:8080/",
          "height": 66
        }
      },
      "source": [
        "# Verificamos valores unico\n",
        "predictions = pd.DataFrame(lr_pred)\n",
        "predictions[0].value_counts()"
      ],
      "execution_count": 22,
      "outputs": [
        {
          "output_type": "execute_result",
          "data": {
            "text/plain": [
              "0    71114\n",
              "1       88\n",
              "Name: 0, dtype: int64"
            ]
          },
          "metadata": {
            "tags": []
          },
          "execution_count": 22
        }
      ]
    },
    {
      "cell_type": "markdown",
      "metadata": {
        "id": "y_7sARYEu6FX",
        "colab_type": "text"
      },
      "source": [
        "¡La regresión logística superó al clasificador ficticio! Podemos ver que predijo 88 instancias de la clase 1, por lo que definitivamente es una mejora. ¿Pero podemos hacerlo mejor?\n",
        "\n",
        "Veamos si podemos aplicar algunas técnicas para tratar el desequilibrio de clase para mejorar estos resultados.\n"
      ]
    },
    {
      "cell_type": "markdown",
      "metadata": {
        "id": "bVVGmcb3xamb",
        "colab_type": "text"
      },
      "source": [
        "##Cambiar la métrica de rendimiento"
      ]
    },
    {
      "cell_type": "markdown",
      "metadata": {
        "id": "-ZYyNnkMxewJ",
        "colab_type": "text"
      },
      "source": [
        "La precisión no es la mejor métrica para usar al evaluar conjuntos de datos desequilibrados, ya que puede ser engañoso. Las métricas que pueden proporcionar una mejor información incluyen:\n",
        "\n",
        "\n",
        "*   **Matriz de confusión:**es una tabla con dos filas y dos columnas que informa el número de falsos positivos , falsos negativos , verdaderos positivos y verdaderos negativos. Esto permite un análisis más detallado que solo la proporción de clasificaciones correctas (precisión). La precisión producirá resultados engañosos si el conjunto de datos no está equilibrado.\n",
        "*   **Precisión:** el número de verdaderos positivos dividido por todas las predicciones positivas. La precisión también se llama valor predictivo positivo. Es una medida de la exactitud de un clasificador. La baja precisión indica un alto número de falsos positivos.\n",
        "*   **Recordar (Sensitivity):** el número de verdaderos positivos dividido el número de valores positivos en los datos de la prueba. La recuperación también se llama Sensibilidad o la tasa positiva verdadera(TPR). Es una medida de la integridad de un clasificador. La baja recuperación indica un alto número de falsos negativos.\n",
        "*   **F1: Puntuación:** el promedio ponderado de precisión y recuperación.\n",
        "\n",
        "Dado que nuestro objetivo principal con el conjunto de datos es priorizar la clasificación precisa de los casos de fraude, la metrica  de recardar( sensivilidad) puede considerarse nuestra principal métrica para evaluar los resultados.\n"
      ]
    },
    {
      "cell_type": "code",
      "metadata": {
        "id": "PD9XPDctqXhv",
        "colab_type": "code",
        "outputId": "a06f9f1f-7087-4e43-8fc7-ea8098eab86b",
        "colab": {
          "base_uri": "https://localhost:8080/",
          "height": 33
        }
      },
      "source": [
        "# f1 score\n",
        "f1_score(y_test, lr_pred)"
      ],
      "execution_count": 23,
      "outputs": [
        {
          "output_type": "execute_result",
          "data": {
            "text/plain": [
              "0.7090909090909092"
            ]
          },
          "metadata": {
            "tags": []
          },
          "execution_count": 23
        }
      ]
    },
    {
      "cell_type": "code",
      "metadata": {
        "id": "BEhoNfBrw8cl",
        "colab_type": "code",
        "outputId": "04588468-2c1e-4a28-b072-e936f28b57d6",
        "colab": {
          "base_uri": "https://localhost:8080/",
          "height": 670
        }
      },
      "source": [
        "# Plot non-normalized confusion matrix\n",
        "titles_options = [(\"Confusion matrix, without normalization\", None),\n",
        "                  (\"Normalized confusion matrix\", 'true')]\n",
        "for title, normalize in titles_options:\n",
        "    disp = plot_confusion_matrix(lr, X_test, y_test,\n",
        "                                 display_labels=['0','1'],\n",
        "                                 cmap=plt.cm.Blues,\n",
        "                                 normalize=normalize)\n",
        "    disp.ax_.set_title(title)\n",
        "\n",
        "    print(title)\n",
        "    print(disp.confusion_matrix)\n",
        "\n",
        "plt.show()"
      ],
      "execution_count": 24,
      "outputs": [
        {
          "output_type": "stream",
          "text": [
            "Confusion matrix, without normalization\n",
            "[[71060    10]\n",
            " [   54    78]]\n",
            "Normalized confusion matrix\n",
            "[[9.99859294e-01 1.40706346e-04]\n",
            " [4.09090909e-01 5.90909091e-01]]\n"
          ],
          "name": "stdout"
        },
        {
          "output_type": "display_data",
          "data": {
            "image/png": "[encoded data removed]",
            "text/plain": [
              "<Figure size 432x288 with 2 Axes>"
            ]
          },
          "metadata": {
            "tags": [],
            "needs_background": "light"
          }
        },
        {
          "output_type": "display_data",
          "data": {
            "image/png": "[encoded data removed]",
            "text/plain": [
              "<Figure size 432x288 with 2 Axes>"
            ]
          },
          "metadata": {
            "tags": [],
            "needs_background": "light"
          }
        }
      ]
    },
    {
      "cell_type": "code",
      "metadata": {
        "id": "hya3T2nKMqvH",
        "colab_type": "code",
        "outputId": "4946a958-88db-42ed-8698-55df057ec585",
        "colab": {
          "base_uri": "https://localhost:8080/",
          "height": 33
        }
      },
      "source": [
        "recall_score(y_test, lr_pred)"
      ],
      "execution_count": 25,
      "outputs": [
        {
          "output_type": "execute_result",
          "data": {
            "text/plain": [
              "0.5909090909090909"
            ]
          },
          "metadata": {
            "tags": []
          },
          "execution_count": 25
        }
      ]
    },
    {
      "cell_type": "markdown",
      "metadata": {
        "id": "VG0UkpTAOJtQ",
        "colab_type": "text"
      },
      "source": [
        "Tenemos una puntuación de precisión muy alta de 0.999 pero una puntuación de F1 de solo 0.752. Y a partir de la matriz de confusión, podemos ver que estamos clasificando erróneamente varias observaciones que conducen a una puntuación de recuerdo de solo 0.64."
      ]
    },
    {
      "cell_type": "markdown",
      "metadata": {
        "id": "gVusVx02OOnM",
        "colab_type": "text"
      },
      "source": [
        "#Change the algorithm"
      ]
    },
    {
      "cell_type": "markdown",
      "metadata": {
        "id": "kFBd5WMVOfWX",
        "colab_type": "text"
      },
      "source": [
        "Si bien en cada problema de aprendizaje automático, es una buena regla general probar una variedad de algoritmos, puede ser especialmente beneficioso con conjuntos de datos desequilibrados. Los árboles de decisión con frecuencia funcionan bien en datos desequilibrados. Trabajan aprendiendo una jerarquía de preguntas if / else. Esto puede obligar a que se aborden ambas clases"
      ]
    },
    {
      "cell_type": "code",
      "metadata": {
        "id": "mg2UUVwmRFyn",
        "colab_type": "code",
        "colab": {}
      },
      "source": [
        "from sklearn.ensemble import RandomForestClassifier"
      ],
      "execution_count": 0,
      "outputs": []
    },
    {
      "cell_type": "code",
      "metadata": {
        "id": "WOPvEnp4RDIh",
        "colab_type": "code",
        "colab": {}
      },
      "source": [
        "# entrenamos el modelo  \n",
        "rfc = RandomForestClassifier(n_estimators=10)\n",
        "rfc = rfc.fit(X_train, y_train)\n",
        "\n",
        "# prediciones en el conjunto de prueba \n",
        "rfc_pred = rfc.predict(X_test)\n",
        "rfc_pp = rfc.predict_proba(X_test)\n"
      ],
      "execution_count": 0,
      "outputs": []
    },
    {
      "cell_type": "code",
      "metadata": {
        "id": "s5ssuTD_pmb1",
        "colab_type": "code",
        "colab": {
          "base_uri": "https://localhost:8080/",
          "height": 33
        },
        "outputId": "d08bfd30-8dbf-46cb-fe60-981217fef7be"
      },
      "source": [
        "rfc_pp=rfc_pp[:,1]\n",
        "auc = roc_auc_score(y_test, rfc_pp)#funcion para encontrar el auc\n",
        "print('AUC: %.2f' % auc)"
      ],
      "execution_count": 28,
      "outputs": [
        {
          "output_type": "stream",
          "text": [
            "AUC: 0.92\n"
          ],
          "name": "stdout"
        }
      ]
    },
    {
      "cell_type": "code",
      "metadata": {
        "id": "LmiFnjiNPRs7",
        "colab_type": "code",
        "outputId": "94588eb9-138e-4300-a11e-6df44b7427c0",
        "colab": {
          "base_uri": "https://localhost:8080/",
          "height": 403
        }
      },
      "source": [
        "frp, tpr, threshold = roc_curve(y_test, rfc_pred)\n",
        "plot_roc_auc(frp, tpr)"
      ],
      "execution_count": 29,
      "outputs": [
        {
          "output_type": "display_data",
          "data": {
            "image/png": "[encoded data removed]",
            "text/plain": [
              "<Figure size 864x432 with 1 Axes>"
            ]
          },
          "metadata": {
            "tags": [],
            "needs_background": "light"
          }
        }
      ]
    },
    {
      "cell_type": "code",
      "metadata": {
        "id": "9Z-PwgsWOChy",
        "colab_type": "code",
        "outputId": "a6ee558b-affa-40ae-e42b-65fbece25967",
        "colab": {
          "base_uri": "https://localhost:8080/",
          "height": 33
        }
      },
      "source": [
        "# Verificamos la exactitud\n",
        "accuracy_score(y_test, rfc_pred)"
      ],
      "execution_count": 30,
      "outputs": [
        {
          "output_type": "execute_result",
          "data": {
            "text/plain": [
              "0.9995084407741356"
            ]
          },
          "metadata": {
            "tags": []
          },
          "execution_count": 30
        }
      ]
    },
    {
      "cell_type": "code",
      "metadata": {
        "id": "LGjBcUwCR2B9",
        "colab_type": "code",
        "outputId": "0e0887b0-0410-4caa-abeb-411a52b062a0",
        "colab": {
          "base_uri": "https://localhost:8080/",
          "height": 33
        }
      },
      "source": [
        "# f1 score\n",
        "f1_score(y_test, rfc_pred)"
      ],
      "execution_count": 31,
      "outputs": [
        {
          "output_type": "execute_result",
          "data": {
            "text/plain": [
              "0.851063829787234"
            ]
          },
          "metadata": {
            "tags": []
          },
          "execution_count": 31
        }
      ]
    },
    {
      "cell_type": "code",
      "metadata": {
        "id": "nSL5Xqz8vmHZ",
        "colab_type": "code",
        "outputId": "d4c6bd31-0173-4cae-a1b3-1857a7d8f7c9",
        "colab": {
          "base_uri": "https://localhost:8080/",
          "height": 670
        }
      },
      "source": [
        "# Plot non-normalized confusion matrix\n",
        "titles_options = [(\"Confusion matrix, without normalization\", None), (\"Normalized confusion matrix\", 'true')]\n",
        "for title, normalize in titles_options:\n",
        "    disp = plot_confusion_matrix(rfc, X_test, y_test, display_labels=['0','1'], cmap=plt.cm.Blues, normalize=normalize)\n",
        "    disp.ax_.set_title(title) \n",
        "    print(title)\n",
        "    print(disp.confusion_matrix)\n",
        "\n",
        "plt.show()"
      ],
      "execution_count": 32,
      "outputs": [
        {
          "output_type": "stream",
          "text": [
            "Confusion matrix, without normalization\n",
            "[[71067     3]\n",
            " [   32   100]]\n",
            "Normalized confusion matrix\n",
            "[[9.99957788e-01 4.22119038e-05]\n",
            " [2.42424242e-01 7.57575758e-01]]\n"
          ],
          "name": "stdout"
        },
        {
          "output_type": "display_data",
          "data": {
            "image/png": "[encoded data removed]",
            "text/plain": [
              "<Figure size 432x288 with 2 Axes>"
            ]
          },
          "metadata": {
            "tags": [],
            "needs_background": "light"
          }
        },
        {
          "output_type": "display_data",
          "data": {
            "image/png": "[encoded data removed]",
            "text/plain": [
              "<Figure size 432x288 with 2 Axes>"
            ]
          },
          "metadata": {
            "tags": [],
            "needs_background": "light"
          }
        }
      ]
    },
    {
      "cell_type": "code",
      "metadata": {
        "id": "lBmB3xMDUHJb",
        "colab_type": "code",
        "outputId": "3f6a22c9-ca50-4a52-bf9b-72bb793c3881",
        "colab": {
          "base_uri": "https://localhost:8080/",
          "height": 33
        }
      },
      "source": [
        "# recall score\n",
        "recall_score(y_test, rfc_pred)"
      ],
      "execution_count": 33,
      "outputs": [
        {
          "output_type": "execute_result",
          "data": {
            "text/plain": [
              "0.7575757575757576"
            ]
          },
          "metadata": {
            "tags": []
          },
          "execution_count": 33
        }
      ]
    },
    {
      "cell_type": "markdown",
      "metadata": {
        "id": "0-9SExZEYBNl",
        "colab_type": "text"
      },
      "source": [
        "#Tecnicas de remuestreo\n",
        "\n"
      ]
    },
    {
      "cell_type": "markdown",
      "metadata": {
        "id": "wiDaR5FaYFZl",
        "colab_type": "text"
      },
      "source": [
        "#Sobremuestreo de minorias \n",
        "El sobremuestreo se puede definir como agregar más copias de la clase minoritaria. El sobremuestreo puede ser una buena opción cuando no tienes muchos datos para trabajar. Una desventaja a tener en cuenta al submuestrear es que puede causar un sobreajuste y una generalización deficiente en su conjunto de prueba.\n",
        "\n",
        "Utilizaremos el módulo de remuestreo de Scikit-Learn para replicar aleatoriamente muestras de la clase minoritaria"
      ]
    },
    {
      "cell_type": "markdown",
      "metadata": {
        "id": "vLoTcDeAZsrC",
        "colab_type": "text"
      },
      "source": [
        "**Nota:** para evitar que el modelo memorice los datos y cause sobreajuste, debemos dividir los datos, en datos de entrenamiento y datos de prueba antes de realizar el sobremuestreo "
      ]
    },
    {
      "cell_type": "code",
      "metadata": {
        "id": "Vj13WE-MX725",
        "colab_type": "code",
        "colab": {}
      },
      "source": [
        "from sklearn.utils import resample"
      ],
      "execution_count": 0,
      "outputs": []
    },
    {
      "cell_type": "code",
      "metadata": {
        "id": "tEWm-p8NbeeJ",
        "colab_type": "code",
        "outputId": "97cafba4-3bb8-4558-bcda-189d894d7090",
        "colab": {
          "base_uri": "https://localhost:8080/",
          "height": 211
        }
      },
      "source": [
        "# concatenar nuestros datos de entrenamiento nuevamente\n",
        "X = pd.concat([X_train, y_train], axis=1)\n",
        "X.head()"
      ],
      "execution_count": 35,
      "outputs": [
        {
          "output_type": "execute_result",
          "data": {
            "text/html": [
              "<div>\n",
              "<style scoped>\n",
              "    .dataframe tbody tr th:only-of-type {\n",
              "        vertical-align: middle;\n",
              "    }\n",
              "\n",
              "    .dataframe tbody tr th {\n",
              "        vertical-align: top;\n",
              "    }\n",
              "\n",
              "    .dataframe thead th {\n",
              "        text-align: right;\n",
              "    }\n",
              "</style>\n",
              "<table border=\"1\" class=\"dataframe\">\n",
              "  <thead>\n",
              "    <tr style=\"text-align: right;\">\n",
              "      <th></th>\n",
              "      <th>Time</th>\n",
              "      <th>V1</th>\n",
              "      <th>V2</th>\n",
              "      <th>V3</th>\n",
              "      <th>V4</th>\n",
              "      <th>V5</th>\n",
              "      <th>V6</th>\n",
              "      <th>V7</th>\n",
              "      <th>V8</th>\n",
              "      <th>V9</th>\n",
              "      <th>V10</th>\n",
              "      <th>V11</th>\n",
              "      <th>V12</th>\n",
              "      <th>V13</th>\n",
              "      <th>V14</th>\n",
              "      <th>V15</th>\n",
              "      <th>V16</th>\n",
              "      <th>V17</th>\n",
              "      <th>V18</th>\n",
              "      <th>V19</th>\n",
              "      <th>V20</th>\n",
              "      <th>V21</th>\n",
              "      <th>V22</th>\n",
              "      <th>V23</th>\n",
              "      <th>V24</th>\n",
              "      <th>V25</th>\n",
              "      <th>V26</th>\n",
              "      <th>V27</th>\n",
              "      <th>V28</th>\n",
              "      <th>Amount</th>\n",
              "      <th>Class</th>\n",
              "    </tr>\n",
              "  </thead>\n",
              "  <tbody>\n",
              "    <tr>\n",
              "      <th>264873</th>\n",
              "      <td>161634.0</td>\n",
              "      <td>-0.395578</td>\n",
              "      <td>1.489129</td>\n",
              "      <td>-0.833442</td>\n",
              "      <td>-0.224271</td>\n",
              "      <td>0.369444</td>\n",
              "      <td>-1.453886</td>\n",
              "      <td>0.796593</td>\n",
              "      <td>-0.060403</td>\n",
              "      <td>0.338270</td>\n",
              "      <td>-0.343885</td>\n",
              "      <td>-0.647990</td>\n",
              "      <td>-0.509490</td>\n",
              "      <td>-0.633729</td>\n",
              "      <td>-0.712156</td>\n",
              "      <td>0.765701</td>\n",
              "      <td>0.053830</td>\n",
              "      <td>0.526211</td>\n",
              "      <td>0.750505</td>\n",
              "      <td>-0.225921</td>\n",
              "      <td>0.054132</td>\n",
              "      <td>0.231624</td>\n",
              "      <td>0.955194</td>\n",
              "      <td>-0.172092</td>\n",
              "      <td>-0.041050</td>\n",
              "      <td>-0.313444</td>\n",
              "      <td>-0.174301</td>\n",
              "      <td>0.064657</td>\n",
              "      <td>-0.036960</td>\n",
              "      <td>2.74</td>\n",
              "      <td>0</td>\n",
              "    </tr>\n",
              "    <tr>\n",
              "      <th>163821</th>\n",
              "      <td>116237.0</td>\n",
              "      <td>1.950487</td>\n",
              "      <td>0.002312</td>\n",
              "      <td>-1.761814</td>\n",
              "      <td>1.232470</td>\n",
              "      <td>0.523175</td>\n",
              "      <td>-0.650657</td>\n",
              "      <td>0.504231</td>\n",
              "      <td>-0.200857</td>\n",
              "      <td>0.116805</td>\n",
              "      <td>0.443750</td>\n",
              "      <td>0.257633</td>\n",
              "      <td>0.358875</td>\n",
              "      <td>-1.313311</td>\n",
              "      <td>0.922108</td>\n",
              "      <td>-1.078538</td>\n",
              "      <td>-0.395038</td>\n",
              "      <td>-0.437151</td>\n",
              "      <td>0.074223</td>\n",
              "      <td>0.187086</td>\n",
              "      <td>-0.285207</td>\n",
              "      <td>0.086306</td>\n",
              "      <td>0.326297</td>\n",
              "      <td>-0.068839</td>\n",
              "      <td>-0.416589</td>\n",
              "      <td>0.426044</td>\n",
              "      <td>-0.486299</td>\n",
              "      <td>-0.031266</td>\n",
              "      <td>-0.072543</td>\n",
              "      <td>38.44</td>\n",
              "      <td>0</td>\n",
              "    </tr>\n",
              "    <tr>\n",
              "      <th>72083</th>\n",
              "      <td>54557.0</td>\n",
              "      <td>1.105167</td>\n",
              "      <td>-0.166253</td>\n",
              "      <td>0.569520</td>\n",
              "      <td>0.681043</td>\n",
              "      <td>-0.259189</td>\n",
              "      <td>0.642792</td>\n",
              "      <td>-0.437034</td>\n",
              "      <td>0.356746</td>\n",
              "      <td>0.441417</td>\n",
              "      <td>-0.113006</td>\n",
              "      <td>1.263824</td>\n",
              "      <td>1.017046</td>\n",
              "      <td>-0.791270</td>\n",
              "      <td>0.181033</td>\n",
              "      <td>-0.530067</td>\n",
              "      <td>-0.733662</td>\n",
              "      <td>0.436861</td>\n",
              "      <td>-0.903134</td>\n",
              "      <td>-0.242185</td>\n",
              "      <td>-0.226981</td>\n",
              "      <td>0.009073</td>\n",
              "      <td>0.293023</td>\n",
              "      <td>-0.028688</td>\n",
              "      <td>-0.242206</td>\n",
              "      <td>0.389813</td>\n",
              "      <td>0.482852</td>\n",
              "      <td>0.010705</td>\n",
              "      <td>-0.008399</td>\n",
              "      <td>1.00</td>\n",
              "      <td>0</td>\n",
              "    </tr>\n",
              "    <tr>\n",
              "      <th>196949</th>\n",
              "      <td>131771.0</td>\n",
              "      <td>1.805238</td>\n",
              "      <td>0.961264</td>\n",
              "      <td>-1.717212</td>\n",
              "      <td>4.094625</td>\n",
              "      <td>0.938666</td>\n",
              "      <td>-0.227785</td>\n",
              "      <td>0.152911</td>\n",
              "      <td>0.066753</td>\n",
              "      <td>-1.073784</td>\n",
              "      <td>0.334537</td>\n",
              "      <td>1.016183</td>\n",
              "      <td>-0.510443</td>\n",
              "      <td>-0.748733</td>\n",
              "      <td>-2.708662</td>\n",
              "      <td>-1.014069</td>\n",
              "      <td>2.220866</td>\n",
              "      <td>1.285249</td>\n",
              "      <td>1.619087</td>\n",
              "      <td>-1.602343</td>\n",
              "      <td>-0.150818</td>\n",
              "      <td>-0.137875</td>\n",
              "      <td>-0.450959</td>\n",
              "      <td>0.098530</td>\n",
              "      <td>-0.662272</td>\n",
              "      <td>-0.150154</td>\n",
              "      <td>-0.098852</td>\n",
              "      <td>-0.000030</td>\n",
              "      <td>0.017622</td>\n",
              "      <td>37.89</td>\n",
              "      <td>0</td>\n",
              "    </tr>\n",
              "    <tr>\n",
              "      <th>126213</th>\n",
              "      <td>77959.0</td>\n",
              "      <td>0.835421</td>\n",
              "      <td>-1.191847</td>\n",
              "      <td>0.578455</td>\n",
              "      <td>0.586101</td>\n",
              "      <td>-1.236663</td>\n",
              "      <td>0.194617</td>\n",
              "      <td>-0.532404</td>\n",
              "      <td>0.061561</td>\n",
              "      <td>-0.734344</td>\n",
              "      <td>0.754427</td>\n",
              "      <td>0.513247</td>\n",
              "      <td>0.704388</td>\n",
              "      <td>0.472193</td>\n",
              "      <td>-0.072043</td>\n",
              "      <td>-0.357247</td>\n",
              "      <td>-1.136932</td>\n",
              "      <td>-0.436168</td>\n",
              "      <td>2.047641</td>\n",
              "      <td>-0.775130</td>\n",
              "      <td>-0.045313</td>\n",
              "      <td>-0.072349</td>\n",
              "      <td>-0.109154</td>\n",
              "      <td>-0.308356</td>\n",
              "      <td>0.011968</td>\n",
              "      <td>0.461350</td>\n",
              "      <td>-0.244810</td>\n",
              "      <td>0.031845</td>\n",
              "      <td>0.060910</td>\n",
              "      <td>237.00</td>\n",
              "      <td>0</td>\n",
              "    </tr>\n",
              "  </tbody>\n",
              "</table>\n",
              "</div>"
            ],
            "text/plain": [
              "            Time        V1        V2  ...       V28  Amount  Class\n",
              "264873  161634.0 -0.395578  1.489129  ... -0.036960    2.74      0\n",
              "163821  116237.0  1.950487  0.002312  ... -0.072543   38.44      0\n",
              "72083    54557.0  1.105167 -0.166253  ... -0.008399    1.00      0\n",
              "196949  131771.0  1.805238  0.961264  ...  0.017622   37.89      0\n",
              "126213   77959.0  0.835421 -1.191847  ...  0.060910  237.00      0\n",
              "\n",
              "[5 rows x 31 columns]"
            ]
          },
          "metadata": {
            "tags": []
          },
          "execution_count": 35
        }
      ]
    },
    {
      "cell_type": "code",
      "metadata": {
        "id": "zvENkWTq4E-H",
        "colab_type": "code",
        "colab": {}
      },
      "source": [
        "# Obtenga el Fraude y el conjunto de datos no fraude\n",
        "fraud = X[X['Class']==1]\n",
        "not_fraud = X[X['Class']==0]"
      ],
      "execution_count": 0,
      "outputs": []
    },
    {
      "cell_type": "code",
      "metadata": {
        "id": "QFzl4Yq74E-J",
        "colab_type": "code",
        "outputId": "e97f64de-ddd8-48b8-b06f-14df135ff7f9",
        "colab": {
          "base_uri": "https://localhost:8080/",
          "height": 33
        }
      },
      "source": [
        "print(fraud.shape,not_fraud.shape)"
      ],
      "execution_count": 37,
      "outputs": [
        {
          "output_type": "stream",
          "text": [
            "(360, 31) (213245, 31)\n"
          ],
          "name": "stdout"
        }
      ]
    },
    {
      "cell_type": "code",
      "metadata": {
        "id": "P3g8RnS5h9FI",
        "colab_type": "code",
        "colab": {}
      },
      "source": [
        "# muestreamos la minoria\n",
        "fraud_upsampled = resample(fraud, \n",
        "                          replace=True, # remplazamos las muestras\n",
        "                          n_samples=len(not_fraud), # Igualamos el numero en la clase mayoritaria\n",
        "                          random_state=state ) # resultados reproducibles"
      ],
      "execution_count": 0,
      "outputs": []
    },
    {
      "cell_type": "code",
      "metadata": {
        "id": "lgYGvyZUiW1T",
        "colab_type": "code",
        "outputId": "98e84007-dd33-43b1-f7f9-3a6a5739be95",
        "colab": {
          "base_uri": "https://localhost:8080/",
          "height": 66
        }
      },
      "source": [
        "# combina la mayoría y minoría muestreada\n",
        "upsampled = pd.concat([not_fraud, fraud_upsampled])\n",
        "\n",
        "# verificar el recuentos nuevos de clases\n",
        "upsampled.Class.value_counts()"
      ],
      "execution_count": 39,
      "outputs": [
        {
          "output_type": "execute_result",
          "data": {
            "text/plain": [
              "1    213245\n",
              "0    213245\n",
              "Name: Class, dtype: int64"
            ]
          },
          "metadata": {
            "tags": []
          },
          "execution_count": 39
        }
      ]
    },
    {
      "cell_type": "code",
      "metadata": {
        "id": "a5PwmmOZjbhZ",
        "colab_type": "code",
        "outputId": "070bff41-e807-4509-d9ec-68490cd8d6dc",
        "colab": {
          "base_uri": "https://localhost:8080/",
          "height": 211
        }
      },
      "source": [
        "upsampled.head()"
      ],
      "execution_count": 40,
      "outputs": [
        {
          "output_type": "execute_result",
          "data": {
            "text/html": [
              "<div>\n",
              "<style scoped>\n",
              "    .dataframe tbody tr th:only-of-type {\n",
              "        vertical-align: middle;\n",
              "    }\n",
              "\n",
              "    .dataframe tbody tr th {\n",
              "        vertical-align: top;\n",
              "    }\n",
              "\n",
              "    .dataframe thead th {\n",
              "        text-align: right;\n",
              "    }\n",
              "</style>\n",
              "<table border=\"1\" class=\"dataframe\">\n",
              "  <thead>\n",
              "    <tr style=\"text-align: right;\">\n",
              "      <th></th>\n",
              "      <th>Time</th>\n",
              "      <th>V1</th>\n",
              "      <th>V2</th>\n",
              "      <th>V3</th>\n",
              "      <th>V4</th>\n",
              "      <th>V5</th>\n",
              "      <th>V6</th>\n",
              "      <th>V7</th>\n",
              "      <th>V8</th>\n",
              "      <th>V9</th>\n",
              "      <th>V10</th>\n",
              "      <th>V11</th>\n",
              "      <th>V12</th>\n",
              "      <th>V13</th>\n",
              "      <th>V14</th>\n",
              "      <th>V15</th>\n",
              "      <th>V16</th>\n",
              "      <th>V17</th>\n",
              "      <th>V18</th>\n",
              "      <th>V19</th>\n",
              "      <th>V20</th>\n",
              "      <th>V21</th>\n",
              "      <th>V22</th>\n",
              "      <th>V23</th>\n",
              "      <th>V24</th>\n",
              "      <th>V25</th>\n",
              "      <th>V26</th>\n",
              "      <th>V27</th>\n",
              "      <th>V28</th>\n",
              "      <th>Amount</th>\n",
              "      <th>Class</th>\n",
              "    </tr>\n",
              "  </thead>\n",
              "  <tbody>\n",
              "    <tr>\n",
              "      <th>264873</th>\n",
              "      <td>161634.0</td>\n",
              "      <td>-0.395578</td>\n",
              "      <td>1.489129</td>\n",
              "      <td>-0.833442</td>\n",
              "      <td>-0.224271</td>\n",
              "      <td>0.369444</td>\n",
              "      <td>-1.453886</td>\n",
              "      <td>0.796593</td>\n",
              "      <td>-0.060403</td>\n",
              "      <td>0.338270</td>\n",
              "      <td>-0.343885</td>\n",
              "      <td>-0.647990</td>\n",
              "      <td>-0.509490</td>\n",
              "      <td>-0.633729</td>\n",
              "      <td>-0.712156</td>\n",
              "      <td>0.765701</td>\n",
              "      <td>0.053830</td>\n",
              "      <td>0.526211</td>\n",
              "      <td>0.750505</td>\n",
              "      <td>-0.225921</td>\n",
              "      <td>0.054132</td>\n",
              "      <td>0.231624</td>\n",
              "      <td>0.955194</td>\n",
              "      <td>-0.172092</td>\n",
              "      <td>-0.041050</td>\n",
              "      <td>-0.313444</td>\n",
              "      <td>-0.174301</td>\n",
              "      <td>0.064657</td>\n",
              "      <td>-0.036960</td>\n",
              "      <td>2.74</td>\n",
              "      <td>0</td>\n",
              "    </tr>\n",
              "    <tr>\n",
              "      <th>163821</th>\n",
              "      <td>116237.0</td>\n",
              "      <td>1.950487</td>\n",
              "      <td>0.002312</td>\n",
              "      <td>-1.761814</td>\n",
              "      <td>1.232470</td>\n",
              "      <td>0.523175</td>\n",
              "      <td>-0.650657</td>\n",
              "      <td>0.504231</td>\n",
              "      <td>-0.200857</td>\n",
              "      <td>0.116805</td>\n",
              "      <td>0.443750</td>\n",
              "      <td>0.257633</td>\n",
              "      <td>0.358875</td>\n",
              "      <td>-1.313311</td>\n",
              "      <td>0.922108</td>\n",
              "      <td>-1.078538</td>\n",
              "      <td>-0.395038</td>\n",
              "      <td>-0.437151</td>\n",
              "      <td>0.074223</td>\n",
              "      <td>0.187086</td>\n",
              "      <td>-0.285207</td>\n",
              "      <td>0.086306</td>\n",
              "      <td>0.326297</td>\n",
              "      <td>-0.068839</td>\n",
              "      <td>-0.416589</td>\n",
              "      <td>0.426044</td>\n",
              "      <td>-0.486299</td>\n",
              "      <td>-0.031266</td>\n",
              "      <td>-0.072543</td>\n",
              "      <td>38.44</td>\n",
              "      <td>0</td>\n",
              "    </tr>\n",
              "    <tr>\n",
              "      <th>72083</th>\n",
              "      <td>54557.0</td>\n",
              "      <td>1.105167</td>\n",
              "      <td>-0.166253</td>\n",
              "      <td>0.569520</td>\n",
              "      <td>0.681043</td>\n",
              "      <td>-0.259189</td>\n",
              "      <td>0.642792</td>\n",
              "      <td>-0.437034</td>\n",
              "      <td>0.356746</td>\n",
              "      <td>0.441417</td>\n",
              "      <td>-0.113006</td>\n",
              "      <td>1.263824</td>\n",
              "      <td>1.017046</td>\n",
              "      <td>-0.791270</td>\n",
              "      <td>0.181033</td>\n",
              "      <td>-0.530067</td>\n",
              "      <td>-0.733662</td>\n",
              "      <td>0.436861</td>\n",
              "      <td>-0.903134</td>\n",
              "      <td>-0.242185</td>\n",
              "      <td>-0.226981</td>\n",
              "      <td>0.009073</td>\n",
              "      <td>0.293023</td>\n",
              "      <td>-0.028688</td>\n",
              "      <td>-0.242206</td>\n",
              "      <td>0.389813</td>\n",
              "      <td>0.482852</td>\n",
              "      <td>0.010705</td>\n",
              "      <td>-0.008399</td>\n",
              "      <td>1.00</td>\n",
              "      <td>0</td>\n",
              "    </tr>\n",
              "    <tr>\n",
              "      <th>196949</th>\n",
              "      <td>131771.0</td>\n",
              "      <td>1.805238</td>\n",
              "      <td>0.961264</td>\n",
              "      <td>-1.717212</td>\n",
              "      <td>4.094625</td>\n",
              "      <td>0.938666</td>\n",
              "      <td>-0.227785</td>\n",
              "      <td>0.152911</td>\n",
              "      <td>0.066753</td>\n",
              "      <td>-1.073784</td>\n",
              "      <td>0.334537</td>\n",
              "      <td>1.016183</td>\n",
              "      <td>-0.510443</td>\n",
              "      <td>-0.748733</td>\n",
              "      <td>-2.708662</td>\n",
              "      <td>-1.014069</td>\n",
              "      <td>2.220866</td>\n",
              "      <td>1.285249</td>\n",
              "      <td>1.619087</td>\n",
              "      <td>-1.602343</td>\n",
              "      <td>-0.150818</td>\n",
              "      <td>-0.137875</td>\n",
              "      <td>-0.450959</td>\n",
              "      <td>0.098530</td>\n",
              "      <td>-0.662272</td>\n",
              "      <td>-0.150154</td>\n",
              "      <td>-0.098852</td>\n",
              "      <td>-0.000030</td>\n",
              "      <td>0.017622</td>\n",
              "      <td>37.89</td>\n",
              "      <td>0</td>\n",
              "    </tr>\n",
              "    <tr>\n",
              "      <th>126213</th>\n",
              "      <td>77959.0</td>\n",
              "      <td>0.835421</td>\n",
              "      <td>-1.191847</td>\n",
              "      <td>0.578455</td>\n",
              "      <td>0.586101</td>\n",
              "      <td>-1.236663</td>\n",
              "      <td>0.194617</td>\n",
              "      <td>-0.532404</td>\n",
              "      <td>0.061561</td>\n",
              "      <td>-0.734344</td>\n",
              "      <td>0.754427</td>\n",
              "      <td>0.513247</td>\n",
              "      <td>0.704388</td>\n",
              "      <td>0.472193</td>\n",
              "      <td>-0.072043</td>\n",
              "      <td>-0.357247</td>\n",
              "      <td>-1.136932</td>\n",
              "      <td>-0.436168</td>\n",
              "      <td>2.047641</td>\n",
              "      <td>-0.775130</td>\n",
              "      <td>-0.045313</td>\n",
              "      <td>-0.072349</td>\n",
              "      <td>-0.109154</td>\n",
              "      <td>-0.308356</td>\n",
              "      <td>0.011968</td>\n",
              "      <td>0.461350</td>\n",
              "      <td>-0.244810</td>\n",
              "      <td>0.031845</td>\n",
              "      <td>0.060910</td>\n",
              "      <td>237.00</td>\n",
              "      <td>0</td>\n",
              "    </tr>\n",
              "  </tbody>\n",
              "</table>\n",
              "</div>"
            ],
            "text/plain": [
              "            Time        V1        V2  ...       V28  Amount  Class\n",
              "264873  161634.0 -0.395578  1.489129  ... -0.036960    2.74      0\n",
              "163821  116237.0  1.950487  0.002312  ... -0.072543   38.44      0\n",
              "72083    54557.0  1.105167 -0.166253  ... -0.008399    1.00      0\n",
              "196949  131771.0  1.805238  0.961264  ...  0.017622   37.89      0\n",
              "126213   77959.0  0.835421 -1.191847  ...  0.060910  237.00      0\n",
              "\n",
              "[5 rows x 31 columns]"
            ]
          },
          "metadata": {
            "tags": []
          },
          "execution_count": 40
        }
      ]
    },
    {
      "cell_type": "code",
      "metadata": {
        "id": "J1o6duMSi0iD",
        "colab_type": "code",
        "colab": {}
      },
      "source": [
        "y_train_us = upsampled.Class\n",
        "X_train_us = upsampled.drop('Class', axis=1)\n",
        "\n",
        "LrUpsampled = LogisticRegression(solver='liblinear')\n",
        "LrUpsampled = LrUpsampled.fit(X_train_us, y_train_us)\n",
        "\n",
        "LrUpsampled_pred = LrUpsampled.predict(X_test)\n",
        "LrUps_pp = LrUpsampled.predict_proba(X_test)"
      ],
      "execution_count": 0,
      "outputs": []
    },
    {
      "cell_type": "code",
      "metadata": {
        "id": "ECAS_eHocTN-",
        "colab_type": "code",
        "colab": {
          "base_uri": "https://localhost:8080/",
          "height": 33
        },
        "outputId": "0a925a1c-80d1-438e-9e37-30fa5fb4c60a"
      },
      "source": [
        "lrus_pp1 = LrUps_pp[:,1]\n",
        "auc = roc_auc_score(y_test, lrus_pp1) #LrUpsampled_pred )#funcion para encontrar el auc\n",
        "print('AUC: %.2f' % auc)"
      ],
      "execution_count": 42,
      "outputs": [
        {
          "output_type": "stream",
          "text": [
            "AUC: 0.95\n"
          ],
          "name": "stdout"
        }
      ]
    },
    {
      "cell_type": "code",
      "metadata": {
        "id": "SEghLSkOUoQR",
        "colab_type": "code",
        "outputId": "a1412f96-0c7f-4c1e-a4c9-a550421add3f",
        "colab": {
          "base_uri": "https://localhost:8080/",
          "height": 403
        }
      },
      "source": [
        "frp, tpr, threshold = roc_curve(y_test, lrus_pp1)\n",
        "plot_roc_auc(frp, tpr)"
      ],
      "execution_count": 43,
      "outputs": [
        {
          "output_type": "display_data",
          "data": {
            "image/png": "[encoded data removed]",
            "text/plain": [
              "<Figure size 864x432 with 1 Axes>"
            ]
          },
          "metadata": {
            "tags": [],
            "needs_background": "light"
          }
        }
      ]
    },
    {
      "cell_type": "code",
      "metadata": {
        "id": "Uzm6bJF2kHFa",
        "colab_type": "code",
        "outputId": "961eb835-fc1d-4c15-8bab-d05a006382da",
        "colab": {
          "base_uri": "https://localhost:8080/",
          "height": 33
        }
      },
      "source": [
        "# Verificamos Exactitud\n",
        "accuracy_score(y_test, LrUpsampled_pred)"
      ],
      "execution_count": 44,
      "outputs": [
        {
          "output_type": "execute_result",
          "data": {
            "text/plain": [
              "0.9826971152495716"
            ]
          },
          "metadata": {
            "tags": []
          },
          "execution_count": 44
        }
      ]
    },
    {
      "cell_type": "code",
      "metadata": {
        "id": "bWeal1DQkVsN",
        "colab_type": "code",
        "outputId": "02522e6e-f833-4975-c567-97b9b793f1a6",
        "colab": {
          "base_uri": "https://localhost:8080/",
          "height": 33
        }
      },
      "source": [
        "# f1 score\n",
        "f1_score(y_test, LrUpsampled_pred)"
      ],
      "execution_count": 45,
      "outputs": [
        {
          "output_type": "execute_result",
          "data": {
            "text/plain": [
              "0.15616438356164383"
            ]
          },
          "metadata": {
            "tags": []
          },
          "execution_count": 45
        }
      ]
    },
    {
      "cell_type": "code",
      "metadata": {
        "id": "qRxnosMq1Lf9",
        "colab_type": "code",
        "outputId": "c1577229-b51a-42db-c6c9-85fdbbe1bf07",
        "colab": {
          "base_uri": "https://localhost:8080/",
          "height": 670
        }
      },
      "source": [
        "# Plot non-normalized confusion matrix\n",
        "titles_options = [(\"Confusion matrix, without normalization\", None), (\"Normalized confusion matrix\", 'true')]\n",
        "for title, normalize in titles_options:\n",
        "    disp = plot_confusion_matrix(LrUpsampled, X_test, y_test, display_labels=['0','1'], cmap=plt.cm.Blues, normalize=normalize)\n",
        "    disp.ax_.set_title(title)\n",
        "    print(title)\n",
        "    print(disp.confusion_matrix)\n",
        "plt.show()"
      ],
      "execution_count": 46,
      "outputs": [
        {
          "output_type": "stream",
          "text": [
            "Confusion matrix, without normalization\n",
            "[[69856  1214]\n",
            " [   18   114]]\n",
            "Normalized confusion matrix\n",
            "[[0.98291825 0.01708175]\n",
            " [0.13636364 0.86363636]]\n"
          ],
          "name": "stdout"
        },
        {
          "output_type": "display_data",
          "data": {
            "image/png": "[encoded data removed]",
            "text/plain": [
              "<Figure size 432x288 with 2 Axes>"
            ]
          },
          "metadata": {
            "tags": [],
            "needs_background": "light"
          }
        },
        {
          "output_type": "display_data",
          "data": {
            "image/png": "[encoded data removed]",
            "text/plain": [
              "<Figure size 432x288 with 2 Axes>"
            ]
          },
          "metadata": {
            "tags": [],
            "needs_background": "light"
          }
        }
      ]
    },
    {
      "cell_type": "code",
      "metadata": {
        "id": "kdvWlMEdkzXL",
        "colab_type": "code",
        "outputId": "c15405f9-75bc-4ee7-c4f4-91b4b9045a18",
        "colab": {
          "base_uri": "https://localhost:8080/",
          "height": 33
        }
      },
      "source": [
        "recall_score(y_test, LrUpsampled_pred)"
      ],
      "execution_count": 47,
      "outputs": [
        {
          "output_type": "execute_result",
          "data": {
            "text/plain": [
              "0.8636363636363636"
            ]
          },
          "metadata": {
            "tags": []
          },
          "execution_count": 47
        }
      ]
    },
    {
      "cell_type": "markdown",
      "metadata": {
        "id": "D1CsAqByobfC",
        "colab_type": "text"
      },
      "source": [
        "Nuestro puntaje de precisión disminuyó después del muestreo ascendente, pero el modelo ahora predice ambas clases de manera más equitativa, lo que lo convierte en una mejora sobre nuestra regresión logística simple anterior."
      ]
    },
    {
      "cell_type": "markdown",
      "metadata": {
        "id": "9PaAFX2AooNy",
        "colab_type": "text"
      },
      "source": [
        "#Submuestreo de la mayoria \n",
        "\n"
      ]
    },
    {
      "cell_type": "markdown",
      "metadata": {
        "id": "bQqYseQKouXb",
        "colab_type": "text"
      },
      "source": [
        "El submuestreo se puede definir como la eliminación de algunas observaciones de la clase mayoritaria. El submuestreo puede ser una buena opción cuando tiene una toneladas de datos: piense en millones de filas. Pero un inconveniente del submuestreo es que estamos eliminando información que puede ser valiosa.\n",
        "\n",
        "Nuevamente usaremos el módulo de remuestreo de Scikit-Learn para eliminar aleatoriamente muestras de la clase mayoritaria."
      ]
    },
    {
      "cell_type": "code",
      "metadata": {
        "id": "oJ6u--14o3Wj",
        "colab_type": "code",
        "outputId": "7ce79331-ee58-4b6c-b270-33b8c00acf2c",
        "colab": {
          "base_uri": "https://localhost:8080/",
          "height": 66
        }
      },
      "source": [
        " #continuo usando nuestras clases separadas de fraude y no fraude desde arriba\n",
        "\n",
        "# disminución de la mayoría\n",
        "not_fraud_downsampled = resample(not_fraud,\n",
        "                                replace = False, # sample without replacement\n",
        "                                n_samples = len(fraud), # match minority n\n",
        "                                random_state =state) # reproducible results\n",
        "\n",
        "# combine minority and downsampled majority\n",
        "downsampled = pd.concat([not_fraud_downsampled, fraud])\n",
        "\n",
        "# verificar el recuentos nuevos de clases\n",
        "downsampled.Class.value_counts()"
      ],
      "execution_count": 48,
      "outputs": [
        {
          "output_type": "execute_result",
          "data": {
            "text/plain": [
              "1    360\n",
              "0    360\n",
              "Name: Class, dtype: int64"
            ]
          },
          "metadata": {
            "tags": []
          },
          "execution_count": 48
        }
      ]
    },
    {
      "cell_type": "code",
      "metadata": {
        "id": "h75z7IeOr-aS",
        "colab_type": "code",
        "colab": {}
      },
      "source": [
        "# Intentando la regresión logística nuevamente con el conjunto de datos con submuestreo\n",
        "\n",
        "y_train_ds = downsampled.Class\n",
        "X_train_ds = downsampled.drop('Class', axis=1)\n",
        "\n",
        "Lrdownsampled = LogisticRegression(solver='liblinear')\n",
        "Lrdownsampled = Lrdownsampled.fit(X_train_ds, y_train_ds)\n",
        "\n",
        "LrUndersampled_pred = Lrdownsampled.predict(X_test)\n",
        "LrUs_pp = Lrdownsampled.predict_proba(X_test)"
      ],
      "execution_count": 0,
      "outputs": []
    },
    {
      "cell_type": "code",
      "metadata": {
        "id": "Ik33UA6edPDg",
        "colab_type": "code",
        "outputId": "981f1c13-61a6-4627-a065-253fa597ae17",
        "colab": {
          "base_uri": "https://localhost:8080/",
          "height": 33
        }
      },
      "source": [
        "LrUs_pp = LrUs_pp [:,1]\n",
        "auc = roc_auc_score(y_test, LrUs_pp  )#funcion para encontrar el auc\n",
        "print('AUC: %.2f' % auc)"
      ],
      "execution_count": 50,
      "outputs": [
        {
          "output_type": "stream",
          "text": [
            "AUC: 0.97\n"
          ],
          "name": "stdout"
        }
      ]
    },
    {
      "cell_type": "code",
      "metadata": {
        "id": "KPvAMWFYdcUl",
        "colab_type": "code",
        "outputId": "ddddbe37-debd-4f89-e368-19eecd9a2789",
        "colab": {
          "base_uri": "https://localhost:8080/",
          "height": 403
        }
      },
      "source": [
        "frp, tpr, threshold = roc_curve(y_test,  LrUs_pp )\n",
        "plot_roc_auc(frp, tpr)"
      ],
      "execution_count": 51,
      "outputs": [
        {
          "output_type": "display_data",
          "data": {
            "image/png": "[encoded data removed]",
            "text/plain": [
              "<Figure size 864x432 with 1 Axes>"
            ]
          },
          "metadata": {
            "tags": [],
            "needs_background": "light"
          }
        }
      ]
    },
    {
      "cell_type": "code",
      "metadata": {
        "id": "BEaX735WsJKr",
        "colab_type": "code",
        "outputId": "0ed606d8-f5c2-4d38-b468-5c86ab9d84ec",
        "colab": {
          "base_uri": "https://localhost:8080/",
          "height": 33
        }
      },
      "source": [
        "# f1 score\n",
        "f1_score(y_test, LrUndersampled_pred)"
      ],
      "execution_count": 52,
      "outputs": [
        {
          "output_type": "execute_result",
          "data": {
            "text/plain": [
              "0.1029476462824461"
            ]
          },
          "metadata": {
            "tags": []
          },
          "execution_count": 52
        }
      ]
    },
    {
      "cell_type": "code",
      "metadata": {
        "id": "9nT9dRbTsF5Y",
        "colab_type": "code",
        "outputId": "eff1661b-3045-4122-af2b-034554bc4ada",
        "colab": {
          "base_uri": "https://localhost:8080/",
          "height": 33
        }
      },
      "source": [
        "# Checking accuracy\n",
        "accuracy_score(y_test, LrUndersampled_pred)"
      ],
      "execution_count": 53,
      "outputs": [
        {
          "output_type": "execute_result",
          "data": {
            "text/plain": [
              "0.9713631639560687"
            ]
          },
          "metadata": {
            "tags": []
          },
          "execution_count": 53
        }
      ]
    },
    {
      "cell_type": "code",
      "metadata": {
        "id": "ulOkFRnq2j7B",
        "colab_type": "code",
        "outputId": "8e330bcd-d3ed-4d6e-91f9-e0338805e169",
        "colab": {
          "base_uri": "https://localhost:8080/",
          "height": 670
        }
      },
      "source": [
        "# Plot non-normalized confusion matrix\n",
        "titles_options = [(\"Confusion matrix, without normalization\", None), (\"Normalized confusion matrix\", 'true')]\n",
        "for title, normalize in titles_options:\n",
        "    disp = plot_confusion_matrix(Lrdownsampled , X_test, y_test, display_labels=['0','1'], cmap=plt.cm.Blues, normalize=normalize)\n",
        "    disp.ax_.set_title(title)\n",
        "    print(title)\n",
        "    print(disp.confusion_matrix) \n",
        "plt.show()"
      ],
      "execution_count": 54,
      "outputs": [
        {
          "output_type": "stream",
          "text": [
            "Confusion matrix, without normalization\n",
            "[[69046  2024]\n",
            " [   15   117]]\n",
            "Normalized confusion matrix\n",
            "[[0.97152104 0.02847896]\n",
            " [0.11363636 0.88636364]]\n"
          ],
          "name": "stdout"
        },
        {
          "output_type": "display_data",
          "data": {
            "image/png": "[encoded data removed]",
            "text/plain": [
              "<Figure size 432x288 with 2 Axes>"
            ]
          },
          "metadata": {
            "tags": [],
            "needs_background": "light"
          }
        },
        {
          "output_type": "display_data",
          "data": {
            "image/png": "[encoded data removed]",
            "text/plain": [
              "<Figure size 432x288 with 2 Axes>"
            ]
          },
          "metadata": {
            "tags": [],
            "needs_background": "light"
          }
        }
      ]
    },
    {
      "cell_type": "code",
      "metadata": {
        "id": "dvpEPcrLsTlA",
        "colab_type": "code",
        "outputId": "5e8b0b8d-2568-453c-b9c3-fca7a59eea7c",
        "colab": {
          "base_uri": "https://localhost:8080/",
          "height": 33
        }
      },
      "source": [
        "recall_score(y_test,  LrUndersampled_pred)"
      ],
      "execution_count": 55,
      "outputs": [
        {
          "output_type": "execute_result",
          "data": {
            "text/plain": [
              "0.8863636363636364"
            ]
          },
          "metadata": {
            "tags": []
          },
          "execution_count": 55
        }
      ]
    },
    {
      "cell_type": "markdown",
      "metadata": {
        "id": "TUy-BOKMtQBm",
        "colab_type": "text"
      },
      "source": [
        "#Generate Synthetic Samples"
      ]
    },
    {
      "cell_type": "markdown",
      "metadata": {
        "id": "NRJsP_QttVfc",
        "colab_type": "text"
      },
      "source": [
        "SMOTE o Synthetic Minority Oversampling Technique es un algoritmo popular para crear observaciones sintéticas de la clase minoritaria."
      ]
    },
    {
      "cell_type": "code",
      "metadata": {
        "id": "sYZ9fuqsv0bi",
        "colab_type": "code",
        "outputId": "6dda601f-ee42-4a1a-b5e0-cee0b568f350",
        "colab": {
          "base_uri": "https://localhost:8080/",
          "height": 102
        }
      },
      "source": [
        "from imblearn.over_sampling import SMOTE"
      ],
      "execution_count": 56,
      "outputs": [
        {
          "output_type": "stream",
          "text": [
            "/usr/local/lib/python3.6/dist-packages/sklearn/externals/six.py:31: FutureWarning: The module is deprecated in version 0.21 and will be removed in version 0.23 since we've dropped support for Python 2.7. Please rely on the official version of six (https://pypi.org/project/six/).\n",
            "  \"(https://pypi.org/project/six/).\", FutureWarning)\n",
            "/usr/local/lib/python3.6/dist-packages/sklearn/utils/deprecation.py:144: FutureWarning: The sklearn.neighbors.base module is  deprecated in version 0.22 and will be removed in version 0.24. The corresponding classes / functions should instead be imported from sklearn.neighbors. Anything that cannot be imported from sklearn.neighbors is now part of the private API.\n",
            "  warnings.warn(message, FutureWarning)\n"
          ],
          "name": "stderr"
        }
      ]
    },
    {
      "cell_type": "code",
      "metadata": {
        "id": "tImKO5c7WtOM",
        "colab_type": "code",
        "colab": {}
      },
      "source": [
        "sm = SMOTE(random_state=42)\n",
        "X_res, y_res = sm.fit_resample(X_train_us, y_train_us)"
      ],
      "execution_count": 0,
      "outputs": []
    },
    {
      "cell_type": "code",
      "metadata": {
        "id": "Z3eKVBu2v47V",
        "colab_type": "code",
        "colab": {}
      },
      "source": [
        "smote = LogisticRegression(solver='liblinear')\n",
        "smote = smote.fit(X_res, y_res)\n",
        "\n",
        "smote_pred = smote.predict(X_test)\n",
        "smote_pp = smote.predict_proba(X_test)"
      ],
      "execution_count": 0,
      "outputs": []
    },
    {
      "cell_type": "code",
      "metadata": {
        "id": "ZDeHY59ueX9J",
        "colab_type": "code",
        "outputId": "c6121b26-829b-4b86-8612-1828e873ca0d",
        "colab": {
          "base_uri": "https://localhost:8080/",
          "height": 33
        }
      },
      "source": [
        "smote_pp = smote_pp[:,1]\n",
        "auc = roc_auc_score(y_test, smote_pp )#funcion para encontrar el auc\n",
        "print('AUC: %.2f' % auc)"
      ],
      "execution_count": 59,
      "outputs": [
        {
          "output_type": "stream",
          "text": [
            "AUC: 0.95\n"
          ],
          "name": "stdout"
        }
      ]
    },
    {
      "cell_type": "code",
      "metadata": {
        "id": "INUEEoXcei9O",
        "colab_type": "code",
        "outputId": "22d932e5-d948-44ef-90f7-85ec63186558",
        "colab": {
          "base_uri": "https://localhost:8080/",
          "height": 403
        }
      },
      "source": [
        "frp, tpr, threshold = roc_curve(y_test,  smote_pp )\n",
        "plot_roc_auc(frp, tpr)"
      ],
      "execution_count": 60,
      "outputs": [
        {
          "output_type": "display_data",
          "data": {
            "image/png": "[encoded data removed]",
            "text/plain": [
              "<Figure size 864x432 with 1 Axes>"
            ]
          },
          "metadata": {
            "tags": [],
            "needs_background": "light"
          }
        }
      ]
    },
    {
      "cell_type": "code",
      "metadata": {
        "id": "ueo23q-3e41E",
        "colab_type": "code",
        "outputId": "5d2e92e9-3b64-4b71-b8eb-d6f8f40a5abe",
        "colab": {
          "base_uri": "https://localhost:8080/",
          "height": 33
        }
      },
      "source": [
        "# Checking accuracy\n",
        "accuracy_score(y_test, smote_pred)"
      ],
      "execution_count": 61,
      "outputs": [
        {
          "output_type": "execute_result",
          "data": {
            "text/plain": [
              "0.9826971152495716"
            ]
          },
          "metadata": {
            "tags": []
          },
          "execution_count": 61
        }
      ]
    },
    {
      "cell_type": "code",
      "metadata": {
        "id": "2BpJ5nwQv_Mm",
        "colab_type": "code",
        "outputId": "632cd601-5bf2-4410-e0bb-6244143e6a2d",
        "colab": {
          "base_uri": "https://localhost:8080/",
          "height": 33
        }
      },
      "source": [
        "# f1 score\n",
        "f1_score(y_test, smote_pred)"
      ],
      "execution_count": 62,
      "outputs": [
        {
          "output_type": "execute_result",
          "data": {
            "text/plain": [
              "0.15616438356164383"
            ]
          },
          "metadata": {
            "tags": []
          },
          "execution_count": 62
        }
      ]
    },
    {
      "cell_type": "code",
      "metadata": {
        "id": "ZaDYodVp2gKG",
        "colab_type": "code",
        "outputId": "214c7fae-27d4-4d4b-f409-2132a3643f8d",
        "colab": {
          "base_uri": "https://localhost:8080/",
          "height": 670
        }
      },
      "source": [
        "# Plot non-normalized confusion matrix\n",
        "titles_options = [(\"Confusion matrix, without normalization\", None),\n",
        "                  (\"Normalized confusion matrix\", 'true')]\n",
        "for title, normalize in titles_options:\n",
        "    disp = plot_confusion_matrix(smote, X_test, y_test,\n",
        "                                 display_labels=['0','1'],\n",
        "                                 cmap=plt.cm.Blues,\n",
        "                                 normalize=normalize)\n",
        "    disp.ax_.set_title(title)\n",
        "\n",
        "    print(title)\n",
        "    print(disp.confusion_matrix)\n",
        "\n",
        "plt.show()"
      ],
      "execution_count": 63,
      "outputs": [
        {
          "output_type": "stream",
          "text": [
            "Confusion matrix, without normalization\n",
            "[[69856  1214]\n",
            " [   18   114]]\n",
            "Normalized confusion matrix\n",
            "[[0.98291825 0.01708175]\n",
            " [0.13636364 0.86363636]]\n"
          ],
          "name": "stdout"
        },
        {
          "output_type": "display_data",
          "data": {
            "image/png": "[encoded data removed]",
            "text/plain": [
              "<Figure size 432x288 with 2 Axes>"
            ]
          },
          "metadata": {
            "tags": [],
            "needs_background": "light"
          }
        },
        {
          "output_type": "display_data",
          "data": {
            "image/png": "[encoded data removed]",
            "text/plain": [
              "<Figure size 432x288 with 2 Axes>"
            ]
          },
          "metadata": {
            "tags": [],
            "needs_background": "light"
          }
        }
      ]
    },
    {
      "cell_type": "code",
      "metadata": {
        "id": "hixePiAqwRCa",
        "colab_type": "code",
        "outputId": "9b366eb6-1196-4173-f6ad-3b6bededf396",
        "colab": {
          "base_uri": "https://localhost:8080/",
          "height": 33
        }
      },
      "source": [
        "recall_score(y_test, smote_pred)"
      ],
      "execution_count": 64,
      "outputs": [
        {
          "output_type": "execute_result",
          "data": {
            "text/plain": [
              "0.8636363636363636"
            ]
          },
          "metadata": {
            "tags": []
          },
          "execution_count": 64
        }
      ]
    },
    {
      "cell_type": "markdown",
      "metadata": {
        "id": "ZOaaeIn8tp-w",
        "colab_type": "text"
      },
      "source": [
        "#Aprendizaje sensitivo al costo "
      ]
    },
    {
      "cell_type": "markdown",
      "metadata": {
        "id": "rWPCw5GarTvB",
        "colab_type": "text"
      },
      "source": [
        "Support Vector MachinePython"
      ]
    },
    {
      "cell_type": "code",
      "metadata": {
        "id": "NhPKs56RpmGp",
        "colab_type": "code",
        "colab": {}
      },
      "source": [
        "from sklearn.svm import SVC"
      ],
      "execution_count": 0,
      "outputs": []
    },
    {
      "cell_type": "code",
      "metadata": {
        "id": "PMEL0aMKriBv",
        "colab_type": "code",
        "colab": {}
      },
      "source": [
        "clf_3 = SVC(kernel='linear', \n",
        "            class_weight='balanced', # penalize\n",
        "            probability=True)"
      ],
      "execution_count": 0,
      "outputs": []
    },
    {
      "cell_type": "code",
      "metadata": {
        "id": "PwoKXS3CrkZH",
        "colab_type": "code",
        "colab": {}
      },
      "source": [
        "clf_3.fit(X_train_us, y_train_us)"
      ],
      "execution_count": 0,
      "outputs": []
    },
    {
      "cell_type": "code",
      "metadata": {
        "id": "Y4TEQ8zXrse3",
        "colab_type": "code",
        "colab": {}
      },
      "source": [
        "pred_y_3 = clf_3.predict(X_test)\n",
        "clf_pp = clf_3.predict_proba(X_test)"
      ],
      "execution_count": 0,
      "outputs": []
    },
    {
      "cell_type": "code",
      "metadata": {
        "id": "sw4HlCn253TR",
        "colab_type": "code",
        "colab": {}
      },
      "source": [
        "\n",
        "accuracy_score(y_test, pred_y_3 )"
      ],
      "execution_count": 0,
      "outputs": []
    },
    {
      "cell_type": "code",
      "metadata": {
        "id": "3hWev1NZ4TTK",
        "colab_type": "code",
        "colab": {}
      },
      "source": [
        "clf_pp = clf_pp[:,1]\n",
        "auc = roc_auc_score(y_test, clf_pp )#funcion para encontrar el auc\n",
        "print('AUC: %.2f' % auc)"
      ],
      "execution_count": 0,
      "outputs": []
    },
    {
      "cell_type": "code",
      "metadata": {
        "id": "ZEyQzC2U474G",
        "colab_type": "code",
        "colab": {}
      },
      "source": [
        "frp, tpr, threshold = roc_curve(y_test,  clf_pp )\n",
        "plot_roc_auc(frp, tpr)"
      ],
      "execution_count": 0,
      "outputs": []
    },
    {
      "cell_type": "code",
      "metadata": {
        "id": "F7F-OUirv5GB",
        "colab_type": "code",
        "colab": {}
      },
      "source": [
        "# Plot non-normalized confusion matrix\n",
        "titles_options = [(\"Confusion matrix, without normalization\", None),\n",
        "                  (\"Normalized confusion matrix\", 'true')]\n",
        "for title, normalize in titles_options:\n",
        "    disp = plot_confusion_matrix(clf_3, X_test, y_test, \n",
        "                                 display_labels=['0','1'],\n",
        "                                 cmap=plt.cm.Blues,\n",
        "                                 normalize=normalize)\n",
        "    disp.ax_.set_title(title)\n",
        "\n",
        "    print(title)\n",
        "    print(disp.confusion_matrix)\n",
        "\n",
        "plt.show()"
      ],
      "execution_count": 0,
      "outputs": []
    },
    {
      "cell_type": "code",
      "metadata": {
        "id": "ce-5jus85xCa",
        "colab_type": "code",
        "colab": {}
      },
      "source": [
        "# f1 score\n",
        "f1_score(y_test, pred_y_3 )"
      ],
      "execution_count": 0,
      "outputs": []
    },
    {
      "cell_type": "code",
      "metadata": {
        "id": "e-HXH0Uu5XWS",
        "colab_type": "code",
        "colab": {}
      },
      "source": [
        "recall_score(y_test, pred_y_3 )"
      ],
      "execution_count": 0,
      "outputs": []
    },
    {
      "cell_type": "markdown",
      "metadata": {
        "id": "Ekdem1AewbMN",
        "colab_type": "text"
      },
      "source": [
        "#Conclusion"
      ]
    },
    {
      "cell_type": "markdown",
      "metadata": {
        "id": "Yl_pfksAsblH",
        "colab_type": "text"
      },
      "source": [
        "¡La disminución de muestreo produjo una puntuación de recuperación más alta que el muestreo superior! Mi preocupación aquí es la pequeña cantidad de muestras totales que utilizamos para entrenar el modelo."
      ]
    },
    {
      "cell_type": "markdown",
      "metadata": {
        "id": "S940KgK-wg2n",
        "colab_type": "text"
      },
      "source": [
        "Cubrimos 5 métodos diferentes para tratar con conjuntos de datos desequilibrados:\n",
        "\n",
        "Cambiar la métrica de rendimiento\n",
        "\n",
        "*   Cambiar la métrica de rendimiento\n",
        "*   Sobremuestreo de clase minoritaria\n",
        "*   Clase mayoritaria de submuestreo\n",
        "*   Cambiar el algoritmo\n",
        "*   Generar muestras sintéticas.\n",
        "*   Penalización de Algoritmos con Aprendizaje sensitivo al costo  \n",
        "\n",
        "Estos son solo algunos de los muchos métodos posibles para tratar cuando se trata de conjuntos de datos desequilibrados, y no una lista exhaustiva. Algunos otros métodos a tener en cuenta son la recopilación de más datos o la elección de diferentes proporciones de muestreo: ¡no es necesario tener exactamente una proporción 1: 1! Siempre debe intentar varios enfoques y luego decidir cuál es el mejor para su problema."
      ]
    },
    {
      "cell_type": "code",
      "metadata": {
        "id": "51r0ynrc2-Bv",
        "colab_type": "code",
        "colab": {}
      },
      "source": [
        ""
      ],
      "execution_count": 0,
      "outputs": []
    }
  ]
}